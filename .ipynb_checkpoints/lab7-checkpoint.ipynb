{
 "cells": [
  {
   "cell_type": "markdown",
   "id": "edd72200-d8be-4d26-ad93-feacf206257a",
   "metadata": {},
   "source": [
    "<h1>Q1</h1>"
   ]
  },
  {
   "cell_type": "code",
   "execution_count": 2,
   "id": "f1ffcc12-220d-4bb5-a75b-e2c713ebddd3",
   "metadata": {},
   "outputs": [],
   "source": [
    "import numpy as np\n",
    "import pandas as pd\n",
    "import seaborn as sns\n",
    "import numpy as np\n",
    "import matplotlib.pyplot as plt\n",
    "from sklearn.datasets import fetch_openml\n",
    "from sklearn.model_selection import train_test_split\n",
    "import time\n",
    "from sklearn.svm import LinearSVC\n",
    "import seaborn as sns\n",
    "np.random.seed(42)\n",
    "\n",
    "from sklearn.metrics import accuracy_score, confusion_matrix, classification_report\n"
   ]
  },
  {
   "cell_type": "code",
   "execution_count": null,
   "id": "a3d075f8-27b8-41f8-a755-e30decb007f7",
   "metadata": {},
   "outputs": [
    {
     "name": "stderr",
     "output_type": "stream",
     "text": [
      "/Users/fysiki_mac/Library/jupyterlab-desktop/jlab_server/lib/python3.8/site-packages/sklearn/datasets/_openml.py:968: FutureWarning: The default value of `parser` will change from `'liac-arff'` to `'auto'` in 1.4. You can set `parser='auto'` to silence this warning. Therefore, an `ImportError` will be raised from 1.4 if the dataset is dense and pandas is not installed. Note that the pandas parser may return different data types. See the Notes Section in fetch_openml's API doc for details.\n",
      "  warn(\n"
     ]
    }
   ],
   "source": [
    "X, y = fetch_openml(\"mnist_784\", version=1, return_X_y=True, as_frame=False)"
   ]
  },
  {
   "cell_type": "code",
   "execution_count": null,
   "id": "20115bc4-d1ab-42c1-955b-60ebeb5ab8da",
   "metadata": {},
   "outputs": [],
   "source": []
  },
  {
   "cell_type": "code",
   "execution_count": null,
   "id": "7a957642-6f49-41ed-808f-2ea372444035",
   "metadata": {},
   "outputs": [],
   "source": [
    "image_index = 7\n",
    "image = X_train[image_index]\n",
    "label = y[image_index]\n",
    "image_flat = X_train[image_index] # This is currently (784,)\n",
    "image_2d = image_flat.reshape(28, 28)\n",
    "# Display the image\n",
    "plt.imshow(image_2d, cmap='gray')\n",
    "plt.title(f\"Label: {label}\")\n",
    "plt.axis('off')\n",
    "plt.show()"
   ]
  },
  {
   "cell_type": "code",
   "execution_count": null,
   "id": "42f12976-d932-4461-90a6-8a7085accc18",
   "metadata": {},
   "outputs": [],
   "source": [
    "import numpy as np\n",
    "\n",
    "# Count the occurrences of each digit\n",
    "unique_digits, counts = np.unique(y, return_counts=True)\n",
    "\n",
    "# Plot the distribution\n",
    "plt.figure(figsize=(8, 4))\n",
    "plt.bar(unique_digits, counts, color='skyblue')\n",
    "plt.title('Distribution of Digits in Training Set')\n",
    "plt.xlabel('Digit Class')\n",
    "plt.ylabel('Number of Samples')\n",
    "plt.xticks(unique_digits)\n",
    "plt.show()"
   ]
  },
  {
   "cell_type": "markdown",
   "id": "abf82aff-5fc2-4f95-b7ec-1c3e11144498",
   "metadata": {},
   "source": [
    "<h1>Phase 1: Data Preparation </h1>"
   ]
  },
  {
   "cell_type": "code",
   "execution_count": null,
   "id": "de5e8658-a6a9-460e-b4cc-d2a02663fc34",
   "metadata": {},
   "outputs": [],
   "source": [
    "# Flatten the Images:"
   ]
  },
  {
   "cell_type": "code",
   "execution_count": null,
   "id": "a5090030-c940-4c5b-b1ed-b4eae977f6fc",
   "metadata": {},
   "outputs": [],
   "source": [
    "image_flat = X # This is currently (784,)\n",
    "image_2d = image_flat.reshape(-1, 784) # -1 numpy propert to automatically adjust the size of"
   ]
  },
  {
   "cell_type": "code",
   "execution_count": null,
   "id": "5a8c4ed3-21e0-4280-a15a-f2c7fbe186a6",
   "metadata": {},
   "outputs": [],
   "source": [
    "X_norm = X/255"
   ]
  },
  {
   "cell_type": "code",
   "execution_count": null,
   "id": "7e7480ba-8c08-44f9-aaf0-3dddc7cecfbc",
   "metadata": {},
   "outputs": [],
   "source": [
    "X_norm"
   ]
  },
  {
   "cell_type": "code",
   "execution_count": null,
   "id": "aada8aea-ed78-48ee-a6b8-c17a20567975",
   "metadata": {},
   "outputs": [],
   "source": [
    "X_train, X_test, y_train, y_test = train_test_split(X_norm, y, test_size=0.2, random_state=42, stratify=y)"
   ]
  },
  {
   "cell_type": "markdown",
   "id": "6a148cf7-28aa-4cf9-839f-29a348d7cf9f",
   "metadata": {},
   "source": [
    "<h1>Phase 2: Model Training </h1>"
   ]
  },
  {
   "cell_type": "markdown",
   "id": "c1c8296f-654c-46bb-94fe-543e96bdad43",
   "metadata": {},
   "source": [
    "We have 2 models options <b>Linear SVC</b> and <b>SVC(kerenel='linear')</b>\n",
    "for better speed we select <h3>Linear SVC</h3>"
   ]
  },
  {
   "cell_type": "code",
   "execution_count": 10,
   "id": "88face99-d11d-40d5-8d6a-36b1fc5e8ada",
   "metadata": {},
   "outputs": [],
   "source": [
    "# Regularization parameter. The strength of the regularization is inversely proportional to C. Must be strictly positive.\n",
    "linear_svm = LinearSVC(C=1.0, max_iter=3000, dual=True, random_state=42)"
   ]
  },
  {
   "cell_type": "code",
   "execution_count": 13,
   "id": "97757af7-d354-4ee9-bc53-4919ce766cb6",
   "metadata": {},
   "outputs": [],
   "source": [
    "start_time = time.time()"
   ]
  },
  {
   "cell_type": "code",
   "execution_count": 11,
   "id": "87ae6e1d-28f5-4397-97dd-ae064d672ba7",
   "metadata": {},
   "outputs": [
    {
     "name": "stderr",
     "output_type": "stream",
     "text": [
      "/Users/fysiki_mac/Library/jupyterlab-desktop/jlab_server/lib/python3.8/site-packages/sklearn/svm/_base.py:1244: ConvergenceWarning: Liblinear failed to converge, increase the number of iterations.\n",
      "  warnings.warn(\n"
     ]
    },
    {
     "data": {
      "text/html": [
       "<style>#sk-container-id-1 {color: black;background-color: white;}#sk-container-id-1 pre{padding: 0;}#sk-container-id-1 div.sk-toggleable {background-color: white;}#sk-container-id-1 label.sk-toggleable__label {cursor: pointer;display: block;width: 100%;margin-bottom: 0;padding: 0.3em;box-sizing: border-box;text-align: center;}#sk-container-id-1 label.sk-toggleable__label-arrow:before {content: \"▸\";float: left;margin-right: 0.25em;color: #696969;}#sk-container-id-1 label.sk-toggleable__label-arrow:hover:before {color: black;}#sk-container-id-1 div.sk-estimator:hover label.sk-toggleable__label-arrow:before {color: black;}#sk-container-id-1 div.sk-toggleable__content {max-height: 0;max-width: 0;overflow: hidden;text-align: left;background-color: #f0f8ff;}#sk-container-id-1 div.sk-toggleable__content pre {margin: 0.2em;color: black;border-radius: 0.25em;background-color: #f0f8ff;}#sk-container-id-1 input.sk-toggleable__control:checked~div.sk-toggleable__content {max-height: 200px;max-width: 100%;overflow: auto;}#sk-container-id-1 input.sk-toggleable__control:checked~label.sk-toggleable__label-arrow:before {content: \"▾\";}#sk-container-id-1 div.sk-estimator input.sk-toggleable__control:checked~label.sk-toggleable__label {background-color: #d4ebff;}#sk-container-id-1 div.sk-label input.sk-toggleable__control:checked~label.sk-toggleable__label {background-color: #d4ebff;}#sk-container-id-1 input.sk-hidden--visually {border: 0;clip: rect(1px 1px 1px 1px);clip: rect(1px, 1px, 1px, 1px);height: 1px;margin: -1px;overflow: hidden;padding: 0;position: absolute;width: 1px;}#sk-container-id-1 div.sk-estimator {font-family: monospace;background-color: #f0f8ff;border: 1px dotted black;border-radius: 0.25em;box-sizing: border-box;margin-bottom: 0.5em;}#sk-container-id-1 div.sk-estimator:hover {background-color: #d4ebff;}#sk-container-id-1 div.sk-parallel-item::after {content: \"\";width: 100%;border-bottom: 1px solid gray;flex-grow: 1;}#sk-container-id-1 div.sk-label:hover label.sk-toggleable__label {background-color: #d4ebff;}#sk-container-id-1 div.sk-serial::before {content: \"\";position: absolute;border-left: 1px solid gray;box-sizing: border-box;top: 0;bottom: 0;left: 50%;z-index: 0;}#sk-container-id-1 div.sk-serial {display: flex;flex-direction: column;align-items: center;background-color: white;padding-right: 0.2em;padding-left: 0.2em;position: relative;}#sk-container-id-1 div.sk-item {position: relative;z-index: 1;}#sk-container-id-1 div.sk-parallel {display: flex;align-items: stretch;justify-content: center;background-color: white;position: relative;}#sk-container-id-1 div.sk-item::before, #sk-container-id-1 div.sk-parallel-item::before {content: \"\";position: absolute;border-left: 1px solid gray;box-sizing: border-box;top: 0;bottom: 0;left: 50%;z-index: -1;}#sk-container-id-1 div.sk-parallel-item {display: flex;flex-direction: column;z-index: 1;position: relative;background-color: white;}#sk-container-id-1 div.sk-parallel-item:first-child::after {align-self: flex-end;width: 50%;}#sk-container-id-1 div.sk-parallel-item:last-child::after {align-self: flex-start;width: 50%;}#sk-container-id-1 div.sk-parallel-item:only-child::after {width: 0;}#sk-container-id-1 div.sk-dashed-wrapped {border: 1px dashed gray;margin: 0 0.4em 0.5em 0.4em;box-sizing: border-box;padding-bottom: 0.4em;background-color: white;}#sk-container-id-1 div.sk-label label {font-family: monospace;font-weight: bold;display: inline-block;line-height: 1.2em;}#sk-container-id-1 div.sk-label-container {text-align: center;}#sk-container-id-1 div.sk-container {/* jupyter's `normalize.less` sets `[hidden] { display: none; }` but bootstrap.min.css set `[hidden] { display: none !important; }` so we also need the `!important` here to be able to override the default hidden behavior on the sphinx rendered scikit-learn.org. See: https://github.com/scikit-learn/scikit-learn/issues/21755 */display: inline-block !important;position: relative;}#sk-container-id-1 div.sk-text-repr-fallback {display: none;}</style><div id=\"sk-container-id-1\" class=\"sk-top-container\"><div class=\"sk-text-repr-fallback\"><pre>LinearSVC(max_iter=3000, random_state=42)</pre><b>In a Jupyter environment, please rerun this cell to show the HTML representation or trust the notebook. <br />On GitHub, the HTML representation is unable to render, please try loading this page with nbviewer.org.</b></div><div class=\"sk-container\" hidden><div class=\"sk-item\"><div class=\"sk-estimator sk-toggleable\"><input class=\"sk-toggleable__control sk-hidden--visually\" id=\"sk-estimator-id-1\" type=\"checkbox\" checked><label for=\"sk-estimator-id-1\" class=\"sk-toggleable__label sk-toggleable__label-arrow\">LinearSVC</label><div class=\"sk-toggleable__content\"><pre>LinearSVC(max_iter=3000, random_state=42)</pre></div></div></div></div></div>"
      ],
      "text/plain": [
       "LinearSVC(max_iter=3000, random_state=42)"
      ]
     },
     "execution_count": 11,
     "metadata": {},
     "output_type": "execute_result"
    }
   ],
   "source": [
    "linear_svm.fit(X_train,y_train)"
   ]
  },
  {
   "cell_type": "code",
   "execution_count": 12,
   "id": "f242688a-292d-4cc0-bc29-d57564dee6f3",
   "metadata": {},
   "outputs": [
    {
     "ename": "NameError",
     "evalue": "name 'start_time' is not defined",
     "output_type": "error",
     "traceback": [
      "\u001b[0;31m---------------------------------------------------------------------------\u001b[0m",
      "\u001b[0;31mNameError\u001b[0m                                 Traceback (most recent call last)",
      "Cell \u001b[0;32mIn[12], line 2\u001b[0m\n\u001b[1;32m      1\u001b[0m end_time \u001b[38;5;241m=\u001b[39m time\u001b[38;5;241m.\u001b[39mtime()\n\u001b[0;32m----> 2\u001b[0m training_time \u001b[38;5;241m=\u001b[39m end_time \u001b[38;5;241m-\u001b[39m \u001b[43mstart_time\u001b[49m\n",
      "\u001b[0;31mNameError\u001b[0m: name 'start_time' is not defined"
     ]
    }
   ],
   "source": [
    "end_time = time.time()\n",
    "training_time = end_time - start_time"
   ]
  },
  {
   "cell_type": "code",
   "execution_count": 14,
   "id": "154945ee-29a3-4105-b9ad-aea0510cef3f",
   "metadata": {},
   "outputs": [
    {
     "name": "stdout",
     "output_type": "stream",
     "text": [
      "Linear-SVM training completed.\n"
     ]
    },
    {
     "ename": "NameError",
     "evalue": "name 'training_time' is not defined",
     "output_type": "error",
     "traceback": [
      "\u001b[0;31m---------------------------------------------------------------------------\u001b[0m",
      "\u001b[0;31mNameError\u001b[0m                                 Traceback (most recent call last)",
      "Cell \u001b[0;32mIn[14], line 2\u001b[0m\n\u001b[1;32m      1\u001b[0m \u001b[38;5;28mprint\u001b[39m(\u001b[38;5;124m\"\u001b[39m\u001b[38;5;124mLinear-SVM training completed.\u001b[39m\u001b[38;5;124m\"\u001b[39m)\n\u001b[0;32m----> 2\u001b[0m \u001b[38;5;28mprint\u001b[39m(\u001b[38;5;124mf\u001b[39m\u001b[38;5;124m\"\u001b[39m\u001b[38;5;124mTraining Time: \u001b[39m\u001b[38;5;132;01m{\u001b[39;00mtraining_time\u001b[38;5;132;01m:\u001b[39;00m\u001b[38;5;124m.2f\u001b[39m\u001b[38;5;132;01m}\u001b[39;00m\u001b[38;5;124m seconds\u001b[39m\u001b[38;5;124m\"\u001b[39m)\n",
      "\u001b[0;31mNameError\u001b[0m: name 'training_time' is not defined"
     ]
    }
   ],
   "source": [
    "print(\"Linear-SVM training completed.\")\n",
    "print(f\"Training Time: {training_time:.2f} seconds\")"
   ]
  },
  {
   "cell_type": "markdown",
   "id": "50d1c0aa-5e77-458b-902c-b7403b51ac41",
   "metadata": {},
   "source": [
    "Grid search<n>\n",
    "C grid={0.001,0.01,0.1,1,10,100}"
   ]
  },
  {
   "cell_type": "code",
   "execution_count": 16,
   "id": "aa651482-1a08-478b-bd20-75c86e820723",
   "metadata": {},
   "outputs": [],
   "source": [
    "from sklearn.model_selection import GridSearchCV\n",
    "from sklearn.metrics import classification_report, accuracy_score"
   ]
  },
  {
   "cell_type": "code",
   "execution_count": 23,
   "id": "7aefda74-2184-4660-a096-6fa2e21feef0",
   "metadata": {},
   "outputs": [],
   "source": [
    "# Create a smaller subset for faster tuning\n",
    "sample_size = 10000\n",
    "X_tune = X_train[:sample_size]\n",
    "y_tune = y_train[:sample_size]"
   ]
  },
  {
   "cell_type": "code",
   "execution_count": 79,
   "id": "e2c53f69-fb1f-4293-93fc-382b850211ff",
   "metadata": {},
   "outputs": [],
   "source": [
    "svm = LinearSVC(dual=True, random_state=42, max_iter=10000)"
   ]
  },
  {
   "cell_type": "code",
   "execution_count": 80,
   "id": "abe64930-ad35-428a-b7ca-051b0e7edb13",
   "metadata": {},
   "outputs": [],
   "source": [
    "param_grid = {\n",
    "    'C': [0.001, 0.01, 0.1, 1.0, 10.0]\n",
    "}"
   ]
  },
  {
   "cell_type": "code",
   "execution_count": 81,
   "id": "7deff31b-ba34-4938-a1de-48e36cf19e3e",
   "metadata": {},
   "outputs": [],
   "source": [
    "grid_search = GridSearchCV(\n",
    "    estimator=svm, \n",
    "    param_grid=param_grid, \n",
    "    scoring='accuracy', \n",
    "    cv=5, # k-fold 5\n",
    "    verbose=3, \n",
    "    n_jobs=-1  # Use all available CPU cores\n",
    ")"
   ]
  },
  {
   "cell_type": "code",
   "execution_count": 82,
   "id": "7e085a30-48f4-41f4-bf09-90727cc15d92",
   "metadata": {},
   "outputs": [
    {
     "name": "stdout",
     "output_type": "stream",
     "text": [
      "Starting Grid Search (testing 5 C values with 5-fold CV on 10000 samples)...\n"
     ]
    }
   ],
   "source": [
    "print(f\"Starting Grid Search (testing {len(param_grid['C'])} C values with 5-fold CV on {sample_size} samples)...\")\n",
    "\n",
    "start_time = time.time()"
   ]
  },
  {
   "cell_type": "code",
   "execution_count": 83,
   "id": "815fc165-32ed-451c-9013-5d854423df09",
   "metadata": {},
   "outputs": [
    {
     "name": "stdout",
     "output_type": "stream",
     "text": [
      "Fitting 5 folds for each of 5 candidates, totalling 25 fits\n"
     ]
    },
    {
     "name": "stderr",
     "output_type": "stream",
     "text": [
      "/Users/fysiki_mac/Library/jupyterlab-desktop/jlab_server/lib/python3.8/site-packages/sklearn/svm/_base.py:1244: ConvergenceWarning: Liblinear failed to converge, increase the number of iterations.\n",
      "  warnings.warn(\n"
     ]
    },
    {
     "data": {
      "text/html": [
       "<style>#sk-container-id-5 {color: black;background-color: white;}#sk-container-id-5 pre{padding: 0;}#sk-container-id-5 div.sk-toggleable {background-color: white;}#sk-container-id-5 label.sk-toggleable__label {cursor: pointer;display: block;width: 100%;margin-bottom: 0;padding: 0.3em;box-sizing: border-box;text-align: center;}#sk-container-id-5 label.sk-toggleable__label-arrow:before {content: \"▸\";float: left;margin-right: 0.25em;color: #696969;}#sk-container-id-5 label.sk-toggleable__label-arrow:hover:before {color: black;}#sk-container-id-5 div.sk-estimator:hover label.sk-toggleable__label-arrow:before {color: black;}#sk-container-id-5 div.sk-toggleable__content {max-height: 0;max-width: 0;overflow: hidden;text-align: left;background-color: #f0f8ff;}#sk-container-id-5 div.sk-toggleable__content pre {margin: 0.2em;color: black;border-radius: 0.25em;background-color: #f0f8ff;}#sk-container-id-5 input.sk-toggleable__control:checked~div.sk-toggleable__content {max-height: 200px;max-width: 100%;overflow: auto;}#sk-container-id-5 input.sk-toggleable__control:checked~label.sk-toggleable__label-arrow:before {content: \"▾\";}#sk-container-id-5 div.sk-estimator input.sk-toggleable__control:checked~label.sk-toggleable__label {background-color: #d4ebff;}#sk-container-id-5 div.sk-label input.sk-toggleable__control:checked~label.sk-toggleable__label {background-color: #d4ebff;}#sk-container-id-5 input.sk-hidden--visually {border: 0;clip: rect(1px 1px 1px 1px);clip: rect(1px, 1px, 1px, 1px);height: 1px;margin: -1px;overflow: hidden;padding: 0;position: absolute;width: 1px;}#sk-container-id-5 div.sk-estimator {font-family: monospace;background-color: #f0f8ff;border: 1px dotted black;border-radius: 0.25em;box-sizing: border-box;margin-bottom: 0.5em;}#sk-container-id-5 div.sk-estimator:hover {background-color: #d4ebff;}#sk-container-id-5 div.sk-parallel-item::after {content: \"\";width: 100%;border-bottom: 1px solid gray;flex-grow: 1;}#sk-container-id-5 div.sk-label:hover label.sk-toggleable__label {background-color: #d4ebff;}#sk-container-id-5 div.sk-serial::before {content: \"\";position: absolute;border-left: 1px solid gray;box-sizing: border-box;top: 0;bottom: 0;left: 50%;z-index: 0;}#sk-container-id-5 div.sk-serial {display: flex;flex-direction: column;align-items: center;background-color: white;padding-right: 0.2em;padding-left: 0.2em;position: relative;}#sk-container-id-5 div.sk-item {position: relative;z-index: 1;}#sk-container-id-5 div.sk-parallel {display: flex;align-items: stretch;justify-content: center;background-color: white;position: relative;}#sk-container-id-5 div.sk-item::before, #sk-container-id-5 div.sk-parallel-item::before {content: \"\";position: absolute;border-left: 1px solid gray;box-sizing: border-box;top: 0;bottom: 0;left: 50%;z-index: -1;}#sk-container-id-5 div.sk-parallel-item {display: flex;flex-direction: column;z-index: 1;position: relative;background-color: white;}#sk-container-id-5 div.sk-parallel-item:first-child::after {align-self: flex-end;width: 50%;}#sk-container-id-5 div.sk-parallel-item:last-child::after {align-self: flex-start;width: 50%;}#sk-container-id-5 div.sk-parallel-item:only-child::after {width: 0;}#sk-container-id-5 div.sk-dashed-wrapped {border: 1px dashed gray;margin: 0 0.4em 0.5em 0.4em;box-sizing: border-box;padding-bottom: 0.4em;background-color: white;}#sk-container-id-5 div.sk-label label {font-family: monospace;font-weight: bold;display: inline-block;line-height: 1.2em;}#sk-container-id-5 div.sk-label-container {text-align: center;}#sk-container-id-5 div.sk-container {/* jupyter's `normalize.less` sets `[hidden] { display: none; }` but bootstrap.min.css set `[hidden] { display: none !important; }` so we also need the `!important` here to be able to override the default hidden behavior on the sphinx rendered scikit-learn.org. See: https://github.com/scikit-learn/scikit-learn/issues/21755 */display: inline-block !important;position: relative;}#sk-container-id-5 div.sk-text-repr-fallback {display: none;}</style><div id=\"sk-container-id-5\" class=\"sk-top-container\"><div class=\"sk-text-repr-fallback\"><pre>GridSearchCV(cv=5, estimator=LinearSVC(max_iter=10000, random_state=42),\n",
       "             n_jobs=-1, param_grid={&#x27;C&#x27;: [0.001, 0.01, 0.1, 1.0, 10.0]},\n",
       "             scoring=&#x27;accuracy&#x27;, verbose=3)</pre><b>In a Jupyter environment, please rerun this cell to show the HTML representation or trust the notebook. <br />On GitHub, the HTML representation is unable to render, please try loading this page with nbviewer.org.</b></div><div class=\"sk-container\" hidden><div class=\"sk-item sk-dashed-wrapped\"><div class=\"sk-label-container\"><div class=\"sk-label sk-toggleable\"><input class=\"sk-toggleable__control sk-hidden--visually\" id=\"sk-estimator-id-11\" type=\"checkbox\" ><label for=\"sk-estimator-id-11\" class=\"sk-toggleable__label sk-toggleable__label-arrow\">GridSearchCV</label><div class=\"sk-toggleable__content\"><pre>GridSearchCV(cv=5, estimator=LinearSVC(max_iter=10000, random_state=42),\n",
       "             n_jobs=-1, param_grid={&#x27;C&#x27;: [0.001, 0.01, 0.1, 1.0, 10.0]},\n",
       "             scoring=&#x27;accuracy&#x27;, verbose=3)</pre></div></div></div><div class=\"sk-parallel\"><div class=\"sk-parallel-item\"><div class=\"sk-item\"><div class=\"sk-label-container\"><div class=\"sk-label sk-toggleable\"><input class=\"sk-toggleable__control sk-hidden--visually\" id=\"sk-estimator-id-12\" type=\"checkbox\" ><label for=\"sk-estimator-id-12\" class=\"sk-toggleable__label sk-toggleable__label-arrow\">estimator: LinearSVC</label><div class=\"sk-toggleable__content\"><pre>LinearSVC(max_iter=10000, random_state=42)</pre></div></div></div><div class=\"sk-serial\"><div class=\"sk-item\"><div class=\"sk-estimator sk-toggleable\"><input class=\"sk-toggleable__control sk-hidden--visually\" id=\"sk-estimator-id-13\" type=\"checkbox\" ><label for=\"sk-estimator-id-13\" class=\"sk-toggleable__label sk-toggleable__label-arrow\">LinearSVC</label><div class=\"sk-toggleable__content\"><pre>LinearSVC(max_iter=10000, random_state=42)</pre></div></div></div></div></div></div></div></div></div></div>"
      ],
      "text/plain": [
       "GridSearchCV(cv=5, estimator=LinearSVC(max_iter=10000, random_state=42),\n",
       "             n_jobs=-1, param_grid={'C': [0.001, 0.01, 0.1, 1.0, 10.0]},\n",
       "             scoring='accuracy', verbose=3)"
      ]
     },
     "execution_count": 83,
     "metadata": {},
     "output_type": "execute_result"
    }
   ],
   "source": [
    "grid_search.fit(X_tune, y_tune)"
   ]
  },
  {
   "cell_type": "code",
   "execution_count": 84,
   "id": "21424551-d2c1-4b23-a1de-c85cbe27d4f9",
   "metadata": {},
   "outputs": [
    {
     "name": "stdout",
     "output_type": "stream",
     "text": [
      "Total Tuning Time: 251.35 seconds\n"
     ]
    }
   ],
   "source": [
    "end_time = time.time()\n",
    "print(f\"Total Tuning Time: {end_time - start_time:.2f} seconds\")"
   ]
  },
  {
   "cell_type": "markdown",
   "id": "28f40169-096c-4a5d-9555-8e896d499a87",
   "metadata": {},
   "source": [
    "<b>Get a best C</b>"
   ]
  },
  {
   "cell_type": "code",
   "execution_count": 85,
   "id": "9b6416b1-ab97-4a2b-97e6-417bd2256d3b",
   "metadata": {},
   "outputs": [
    {
     "name": "stdout",
     "output_type": "stream",
     "text": [
      "\n",
      "--- TUNING RESULTS ---\n",
      "Optimal C found: 0.001\n",
      "Best cross-validation accuracy: 0.8471\n"
     ]
    }
   ],
   "source": [
    "best_C = grid_search.best_params_['C']\n",
    "best_score = grid_search.best_score_\n",
    "print(\"\\n--- TUNING RESULTS ---\")\n",
    "print(f\"Optimal C found: {best_C}\")\n",
    "print(f\"Best cross-validation accuracy: {best_score:.4f}\")"
   ]
  },
  {
   "cell_type": "code",
   "execution_count": 86,
   "id": "c2865ec9-5b5d-449c-8a2f-2c874f933b1b",
   "metadata": {},
   "outputs": [],
   "source": [
    "y_pred = grid_search.predict(X_test)"
   ]
  },
  {
   "cell_type": "code",
   "execution_count": 87,
   "id": "464ed913-2af4-43ac-ae89-a491c32b499b",
   "metadata": {
    "scrolled": true,
    "tags": []
   },
   "outputs": [
    {
     "name": "stdout",
     "output_type": "stream",
     "text": [
      "\n",
      "--- FINAL EVALUATION ---\n",
      "Test Set Accuracy with Optimal C (0.001): 0.8485\n",
      "\n",
      "Classification Report (per-digit performance):\n",
      "              precision    recall  f1-score   support\n",
      "\n",
      "           0       0.91      0.94      0.92      1381\n",
      "           1       0.93      0.96      0.95      1575\n",
      "           2       0.83      0.81      0.82      1398\n",
      "           3       0.83      0.79      0.81      1428\n",
      "           4       0.85      0.85      0.85      1365\n",
      "           5       0.72      0.80      0.76      1263\n",
      "           6       0.89      0.90      0.89      1375\n",
      "           7       0.86      0.88      0.87      1459\n",
      "           8       0.81      0.75      0.78      1365\n",
      "           9       0.84      0.79      0.81      1391\n",
      "\n",
      "    accuracy                           0.85     14000\n",
      "   macro avg       0.85      0.85      0.85     14000\n",
      "weighted avg       0.85      0.85      0.85     14000\n",
      "\n"
     ]
    }
   ],
   "source": [
    "final_accuracy = accuracy_score(y_test, y_pred)\n",
    "print(\"\\n--- FINAL EVALUATION ---\")\n",
    "print(f\"Test Set Accuracy with Optimal C ({best_C}): {final_accuracy:.4f}\")\n",
    "print(\"\\nClassification Report (per-digit performance):\")\n",
    "print(classification_report(y_test, y_pred))"
   ]
  },
  {
   "cell_type": "markdown",
   "id": "251a0c5b-25c7-41dd-b006-d5dabec3dd1a",
   "metadata": {},
   "source": [
    "<h1>Phase 3: Model Evaluation</h1>"
   ]
  },
  {
   "cell_type": "code",
   "execution_count": 88,
   "id": "4903d265-f3a1-4fda-8657-8c183c667d27",
   "metadata": {},
   "outputs": [],
   "source": [
    "final_model = grid_search.best_estimator_"
   ]
  },
  {
   "cell_type": "code",
   "execution_count": 89,
   "id": "1b72e30e-42d4-4711-871c-52de95157489",
   "metadata": {},
   "outputs": [
    {
     "name": "stdout",
     "output_type": "stream",
     "text": [
      "Generating predictions on the test set...\n",
      "Prediction Time: 0.02 seconds\n"
     ]
    }
   ],
   "source": [
    "print(\"Generating predictions on the test set...\")\n",
    "start_time = time.time()\n",
    "y_pred = final_model.predict(X_test)\n",
    "end_time = time.time()\n",
    "print(f\"Prediction Time: {end_time - start_time:.2f} seconds\")"
   ]
  },
  {
   "cell_type": "code",
   "execution_count": 90,
   "id": "4ab3d856-a1df-44cd-80fb-73f6564b6ba8",
   "metadata": {},
   "outputs": [
    {
     "name": "stdout",
     "output_type": "stream",
     "text": [
      "\n",
      "--- PERFORMANCE METRICS ---\n",
      "1. Overall Test Accuracy: 0.8485\n"
     ]
    }
   ],
   "source": [
    "overall_accuracy = accuracy_score(y_test, y_pred)\n",
    "print(\"\\n--- PERFORMANCE METRICS ---\")\n",
    "print(f\"1. Overall Test Accuracy: {overall_accuracy:.4f}\")"
   ]
  },
  {
   "cell_type": "code",
   "execution_count": 91,
   "id": "74a8f8dc-9724-41c0-bcfa-624acff9e1de",
   "metadata": {},
   "outputs": [
    {
     "name": "stdout",
     "output_type": "stream",
     "text": [
      "\n",
      "2. Confusion Matrix:\n"
     ]
    },
    {
     "data": {
      "image/png": "[encoded data removed]",
      "text/plain": [
       "<Figure size 1000x800 with 1 Axes>"
      ]
     },
     "metadata": {},
     "output_type": "display_data"
    }
   ],
   "source": [
    "conf_matrix = confusion_matrix(y_test, y_pred)\n",
    "\n",
    "print(\"\\n2. Confusion Matrix:\")\n",
    "# Display the Confusion Matrix visually\n",
    "plt.figure(figsize=(10, 8))\n",
    "sns.heatmap(conf_matrix, \n",
    "            annot=True, \n",
    "            fmt=\"d\", \n",
    "            cmap=\"Blues\",\n",
    "            cbar=False,\n",
    "            xticklabels=range(10), \n",
    "            yticklabels=range(10))\n",
    "plt.title(f'Linear-SVM Confusion Matrix (Accuracy: {overall_accuracy:.4f})')\n",
    "plt.xlabel('Predicted Label')\n",
    "plt.ylabel('True Label')\n",
    "plt.show() "
   ]
  },
  {
   "cell_type": "code",
   "execution_count": 92,
   "id": "8b3357d8-db50-4de9-8745-7bccba2acd61",
   "metadata": {},
   "outputs": [],
   "source": [
    "# 9 is most confussion one"
   ]
  },
  {
   "cell_type": "code",
   "execution_count": 93,
   "id": "65f9698f-d79c-427b-94d8-c505519f6269",
   "metadata": {},
   "outputs": [
    {
     "name": "stdout",
     "output_type": "stream",
     "text": [
      "\n",
      "3. Classification Report (Detail per Digit):\n",
      "              precision    recall  f1-score   support\n",
      "\n",
      "           0   0.909537  0.939175  0.924118      1381\n",
      "           1   0.932633  0.958095  0.945193      1575\n",
      "           2   0.826979  0.806867  0.816799      1398\n",
      "           3   0.831741  0.792717  0.811760      1428\n",
      "           4   0.845534  0.846154  0.845844      1365\n",
      "           5   0.716619  0.798892  0.755522      1263\n",
      "           6   0.885246  0.903273  0.894168      1375\n",
      "           7   0.864773  0.876628  0.870660      1459\n",
      "           8   0.812796  0.753846  0.782212      1365\n",
      "           9   0.839572  0.790079  0.814074      1391\n",
      "\n",
      "    accuracy                       0.848500     14000\n",
      "   macro avg   0.846543  0.846572  0.846035     14000\n",
      "weighted avg   0.848878  0.848500  0.848188     14000\n",
      "\n"
     ]
    }
   ],
   "source": [
    "class_report = classification_report(y_test, y_pred, digits=6) # digits=4 for 4 decimal places\n",
    "\n",
    "print(\"\\n3. Classification Report (Detail per Digit):\")\n",
    "print(class_report)"
   ]
  },
  {
   "cell_type": "markdown",
   "id": "d93263df-609c-4f73-9ac5-b27c3f2c4b04",
   "metadata": {},
   "source": [
    "<h1>Phase 4: Performance Comparison</h1>"
   ]
  },
  {
   "cell_type": "markdown",
   "id": "c2909e5d-626c-48ed-84e4-b58d2656db4b",
   "metadata": {},
   "source": [
    "# Logistic regrestion\n",
    "Model Accuracy on 28x28 Test Set: 92.05%\n",
    "\n",
    "Model Accuracy on 14x14 Test Set: 90.96%\n",
    "\n",
    "Model Accuracy on 7x7 Test Set: 87.14%\n",
    "\n",
    "Model Accuracy on 4x4 Test Set: 70.41%\n",
    "\n",
    "Model Accuracy on 2x2 Test Set: 26.23%\n",
    "\n",
    "Model Accuracy on 1x1 Test Set: 20.44%"
   ]
  },
  {
   "cell_type": "markdown",
   "id": "0b3a2b82-7dac-4ab8-8f21-ec503c41872e",
   "metadata": {},
   "source": [
    "# KNN\n",
    "\n",
    "--- k-NN training at 28x28 ---\n",
    "k-NN Accuracy at 28x28: 88.50%\n",
    "\n",
    "--- k-NN training at 14x14 ---\n",
    "k-NN Accuracy at 14x14: 89.25%\n",
    "\n",
    "--- k-NN training at 7x7 ---\n",
    "k-NN Accuracy at 7x7: 86.75%\n",
    "\n",
    "--- k-NN training at 4x4 ---\n",
    "k-NN Accuracy at 4x4: 74.75%\n",
    "\n",
    "--- k-NN training at 2x2 ---\n",
    "k-NN Accuracy at 2x2: 28.75%\n",
    "\n",
    "--- k-NN training at 1x1 ---\n",
    "k-NN Accuracy at 1x1: 19.25%"
   ]
  },
  {
   "cell_type": "code",
   "execution_count": 94,
   "id": "c5de8cea-fa11-4ba7-a81f-1ae7fd285b16",
   "metadata": {},
   "outputs": [
    {
     "name": "stdout",
     "output_type": "stream",
     "text": [
      "\n",
      "[1] TEST ACCURACY COMPARISON\n",
      "\n",
      "Model                               Test Accuracy  \n",
      "----------------------------------- ---------------\n",
      "Logistic Regression (Baseline)      92.0500\n",
      "Linear-SVM (Current)                84.8500\n"
     ]
    }
   ],
   "source": [
    "logistic_regression_accuracy = 92.05\n",
    "comparison_data = {\n",
    "    'Model': ['Logistic Regression (Baseline)', 'Linear-SVM (Current)'],\n",
    "    'Test Accuracy': [logistic_regression_accuracy, overall_accuracy*100]\n",
    "}\n",
    "\n",
    "# --- 1. Display Comparison Table ---\n",
    "print(\"\\n[1] TEST ACCURACY COMPARISON\\n\")\n",
    "print(f\"{'Model':<35} {'Test Accuracy':<15}\")\n",
    "print(f\"{'-'*35:<35} {'-'*15:<15}\")\n",
    "print(f\"{comparison_data['Model'][0]:<35} {comparison_data['Test Accuracy'][0]:<.4f}\")\n",
    "print(f\"{comparison_data['Model'][1]:<35} {comparison_data['Test Accuracy'][1]:<.4f}\")"
   ]
  },
  {
   "cell_type": "code",
   "execution_count": null,
   "id": "16b755d3-893d-4752-9c0d-3c599bf0ee5b",
   "metadata": {
    "scrolled": true,
    "tags": []
   },
   "outputs": [
    {
     "name": "stdout",
     "output_type": "stream",
     "text": [
      "Retraining Linear-SVM with C=1.0 and max_iter=20000...\n",
      "[CV 5/5] END ...........................C=0.001;, score=0.830 total time=  55.3s\n",
      "[CV 4/5] END ............................C=0.01;, score=0.842 total time= 1.0min\n",
      "[CV 2/5] END .............................C=1.0;, score=0.838 total time= 1.0min\n",
      "[CV 5/5] END ............................C=10.0;, score=0.824 total time=  21.7s\n",
      "[CV 3/5] END ...........................C=0.001;, score=0.857 total time=  11.6s\n",
      "[CV 5/5] END .............................C=0.1;, score=0.836 total time=  10.2s\n",
      "[CV 4/5] END .............................C=1.0;, score=0.855 total time=  11.4s\n",
      "[CV 4/5] END ...........................C=0.001;, score=0.859 total time= 1.1min\n",
      "[CV 5/5] END ............................C=0.01;, score=0.812 total time= 1.0min\n",
      "[CV 3/5] END .............................C=1.0;, score=0.841 total time= 1.1min\n"
     ]
    },
    {
     "name": "stderr",
     "output_type": "stream",
     "text": [
      "/Users/fysiki_mac/Library/jupyterlab-desktop/jlab_server/lib/python3.8/site-packages/sklearn/svm/_base.py:1244: ConvergenceWarning: Liblinear failed to converge, increase the number of iterations.\n",
      "  warnings.warn(\n",
      "/Users/fysiki_mac/Library/jupyterlab-desktop/jlab_server/lib/python3.8/site-packages/sklearn/svm/_base.py:1244: ConvergenceWarning: Liblinear failed to converge, increase the number of iterations.\n",
      "  warnings.warn(\n",
      "/Users/fysiki_mac/Library/jupyterlab-desktop/jlab_server/lib/python3.8/site-packages/sklearn/svm/_base.py:1244: ConvergenceWarning: Liblinear failed to converge, increase the number of iterations.\n",
      "  warnings.warn(\n",
      "/Users/fysiki_mac/Library/jupyterlab-desktop/jlab_server/lib/python3.8/site-packages/sklearn/svm/_base.py:1244: ConvergenceWarning: Liblinear failed to converge, increase the number of iterations.\n",
      "  warnings.warn(\n",
      "/Users/fysiki_mac/Library/jupyterlab-desktop/jlab_server/lib/python3.8/site-packages/sklearn/svm/_base.py:1244: ConvergenceWarning: Liblinear failed to converge, increase the number of iterations.\n",
      "  warnings.warn(\n",
      "/Users/fysiki_mac/Library/jupyterlab-desktop/jlab_server/lib/python3.8/site-packages/sklearn/svm/_base.py:1244: ConvergenceWarning: Liblinear failed to converge, increase the number of iterations.\n",
      "  warnings.warn(\n",
      "/Users/fysiki_mac/Library/jupyterlab-desktop/jlab_server/lib/python3.8/site-packages/sklearn/svm/_base.py:1244: ConvergenceWarning: Liblinear failed to converge, increase the number of iterations.\n",
      "  warnings.warn(\n",
      "/Users/fysiki_mac/Library/jupyterlab-desktop/jlab_server/lib/python3.8/site-packages/sklearn/svm/_base.py:1244: ConvergenceWarning: Liblinear failed to converge, increase the number of iterations.\n",
      "  warnings.warn(\n",
      "/Users/fysiki_mac/Library/jupyterlab-desktop/jlab_server/lib/python3.8/site-packages/sklearn/svm/_base.py:1244: ConvergenceWarning: Liblinear failed to converge, increase the number of iterations.\n",
      "  warnings.warn(\n",
      "/Users/fysiki_mac/Library/jupyterlab-desktop/jlab_server/lib/python3.8/site-packages/sklearn/svm/_base.py:1244: ConvergenceWarning: Liblinear failed to converge, increase the number of iterations.\n",
      "  warnings.warn(\n"
     ]
    },
    {
     "name": "stdout",
     "output_type": "stream",
     "text": [
      "[CV 1/5] END ...........................C=0.001;, score=0.843 total time= 1.1min\n",
      "[CV 1/5] END .............................C=0.1;, score=0.834 total time= 1.0min\n",
      "[CV 2/5] END ............................C=10.0;, score=0.837 total time=  59.4s\n",
      "[CV 4/5] END ...........................C=0.001;, score=0.841 total time=  11.3s\n",
      "[CV 1/5] END .............................C=0.1;, score=0.833 total time=  11.0s\n",
      "[CV 5/5] END .............................C=1.0;, score=0.835 total time=  10.5s\n",
      "[CV 5/5] END ............................C=10.0;, score=0.835 total time=   3.6s\n",
      "[CV 2/5] END ...........................C=0.001;, score=0.852 total time= 1.1min\n",
      "[CV 1/5] END .............................C=0.1;, score=0.834 total time= 1.1min\n",
      "[CV 5/5] END .............................C=1.0;, score=0.809 total time= 1.0min\n"
     ]
    },
    {
     "name": "stderr",
     "output_type": "stream",
     "text": [
      "/Users/fysiki_mac/Library/jupyterlab-desktop/jlab_server/lib/python3.8/site-packages/sklearn/svm/_base.py:1244: ConvergenceWarning: Liblinear failed to converge, increase the number of iterations.\n",
      "  warnings.warn(\n",
      "/Users/fysiki_mac/Library/jupyterlab-desktop/jlab_server/lib/python3.8/site-packages/sklearn/svm/_base.py:1244: ConvergenceWarning: Liblinear failed to converge, increase the number of iterations.\n",
      "  warnings.warn(\n",
      "/Users/fysiki_mac/Library/jupyterlab-desktop/jlab_server/lib/python3.8/site-packages/sklearn/svm/_base.py:1244: ConvergenceWarning: Liblinear failed to converge, increase the number of iterations.\n",
      "  warnings.warn(\n",
      "/Users/fysiki_mac/Library/jupyterlab-desktop/jlab_server/lib/python3.8/site-packages/sklearn/svm/_base.py:1244: ConvergenceWarning: Liblinear failed to converge, increase the number of iterations.\n",
      "  warnings.warn(\n",
      "/Users/fysiki_mac/Library/jupyterlab-desktop/jlab_server/lib/python3.8/site-packages/sklearn/svm/_base.py:1244: ConvergenceWarning: Liblinear failed to converge, increase the number of iterations.\n",
      "  warnings.warn(\n",
      "/Users/fysiki_mac/Library/jupyterlab-desktop/jlab_server/lib/python3.8/site-packages/sklearn/svm/_base.py:1244: ConvergenceWarning: Liblinear failed to converge, increase the number of iterations.\n",
      "  warnings.warn(\n",
      "/Users/fysiki_mac/Library/jupyterlab-desktop/jlab_server/lib/python3.8/site-packages/sklearn/svm/_base.py:1244: ConvergenceWarning: Liblinear failed to converge, increase the number of iterations.\n",
      "  warnings.warn(\n",
      "/Users/fysiki_mac/Library/jupyterlab-desktop/jlab_server/lib/python3.8/site-packages/sklearn/svm/_base.py:1244: ConvergenceWarning: Liblinear failed to converge, increase the number of iterations.\n",
      "  warnings.warn(\n",
      "/Users/fysiki_mac/Library/jupyterlab-desktop/jlab_server/lib/python3.8/site-packages/sklearn/svm/_base.py:1244: ConvergenceWarning: Liblinear failed to converge, increase the number of iterations.\n",
      "  warnings.warn(\n",
      "/Users/fysiki_mac/Library/jupyterlab-desktop/jlab_server/lib/python3.8/site-packages/sklearn/svm/_base.py:1244: ConvergenceWarning: Liblinear failed to converge, increase the number of iterations.\n",
      "  warnings.warn(\n"
     ]
    },
    {
     "name": "stdout",
     "output_type": "stream",
     "text": [
      "[CV 3/5] END ............................C=0.01;, score=0.852 total time= 1.1min\n",
      "[CV 1/5] END .............................C=1.0;, score=0.830 total time= 1.0min\n",
      "[CV 3/5] END ............................C=10.0;, score=0.840 total time=  59.6s\n",
      "[CV 2/5] END ............................C=0.01;, score=0.834 total time=  11.4s\n",
      "[CV 4/5] END .............................C=0.1;, score=0.856 total time=  11.0s\n",
      "[CV 3/5] END ............................C=10.0;, score=0.848 total time=  11.4s\n",
      "[CV 2/5] END ............................C=0.01;, score=0.841 total time= 1.2min\n",
      "[CV 5/5] END .............................C=0.1;, score=0.832 total time= 1.0min\n",
      "[CV 4/5] END .............................C=1.0;, score=0.843 total time= 1.1min\n"
     ]
    },
    {
     "name": "stderr",
     "output_type": "stream",
     "text": [
      "/Users/fysiki_mac/Library/jupyterlab-desktop/jlab_server/lib/python3.8/site-packages/sklearn/svm/_base.py:1244: ConvergenceWarning: Liblinear failed to converge, increase the number of iterations.\n",
      "  warnings.warn(\n",
      "/Users/fysiki_mac/Library/jupyterlab-desktop/jlab_server/lib/python3.8/site-packages/sklearn/svm/_base.py:1244: ConvergenceWarning: Liblinear failed to converge, increase the number of iterations.\n",
      "  warnings.warn(\n",
      "/Users/fysiki_mac/Library/jupyterlab-desktop/jlab_server/lib/python3.8/site-packages/sklearn/svm/_base.py:1244: ConvergenceWarning: Liblinear failed to converge, increase the number of iterations.\n",
      "  warnings.warn(\n",
      "/Users/fysiki_mac/Library/jupyterlab-desktop/jlab_server/lib/python3.8/site-packages/sklearn/svm/_base.py:1244: ConvergenceWarning: Liblinear failed to converge, increase the number of iterations.\n",
      "  warnings.warn(\n",
      "/Users/fysiki_mac/Library/jupyterlab-desktop/jlab_server/lib/python3.8/site-packages/sklearn/svm/_base.py:1244: ConvergenceWarning: Liblinear failed to converge, increase the number of iterations.\n",
      "  warnings.warn(\n",
      "/Users/fysiki_mac/Library/jupyterlab-desktop/jlab_server/lib/python3.8/site-packages/sklearn/svm/_base.py:1244: ConvergenceWarning: Liblinear failed to converge, increase the number of iterations.\n",
      "  warnings.warn(\n",
      "/Users/fysiki_mac/Library/jupyterlab-desktop/jlab_server/lib/python3.8/site-packages/sklearn/svm/_base.py:1244: ConvergenceWarning: Liblinear failed to converge, increase the number of iterations.\n",
      "  warnings.warn(\n",
      "/Users/fysiki_mac/Library/jupyterlab-desktop/jlab_server/lib/python3.8/site-packages/sklearn/svm/_base.py:1244: ConvergenceWarning: Liblinear failed to converge, increase the number of iterations.\n",
      "  warnings.warn(\n",
      "/Users/fysiki_mac/Library/jupyterlab-desktop/jlab_server/lib/python3.8/site-packages/sklearn/svm/_base.py:1244: ConvergenceWarning: Liblinear failed to converge, increase the number of iterations.\n",
      "  warnings.warn(\n"
     ]
    },
    {
     "name": "stdout",
     "output_type": "stream",
     "text": [
      "[CV 2/5] END ............................C=0.01;, score=0.841 total time= 1.1min\n",
      "[CV 4/5] END .............................C=0.1;, score=0.840 total time= 1.0min\n",
      "[CV 5/5] END .............................C=1.0;, score=0.809 total time=  55.7s\n",
      "[CV 3/5] END ............................C=0.01;, score=0.848 total time=  11.0s\n",
      "[CV 5/5] END ............................C=0.01;, score=0.844 total time=  10.2s\n",
      "[CV 2/5] END .............................C=1.0;, score=0.847 total time=  11.6s\n",
      "[CV 1/5] END ...........................C=0.001;, score=0.843 total time= 1.2min\n",
      "[CV 3/5] END .............................C=0.1;, score=0.843 total time= 1.1min\n",
      "[CV 3/5] END ............................C=10.0;, score=0.840 total time= 1.1min\n",
      "[CV 1/5] END ............................C=0.01;, score=0.836 total time= 1.1min\n",
      "[CV 5/5] END .............................C=0.1;, score=0.832 total time=  56.4s\n",
      "[CV 4/5] END .............................C=1.0;, score=0.843 total time=  60.0s\n",
      "[CV 1/5] END ............................C=0.01;, score=0.844 total time=  11.3s\n",
      "[CV 2/5] END .............................C=0.1;, score=0.861 total time=  10.9s\n",
      "[CV 1/5] END ............................C=10.0;, score=0.821 total time=  11.3s\n",
      "[CV 1/5] END ............................C=0.01;, score=0.836 total time= 1.2min\n",
      "[CV 1/5] END .............................C=1.0;, score=0.830 total time= 1.1min\n",
      "[CV 4/5] END ............................C=10.0;, score=0.847 total time= 1.1min\n"
     ]
    },
    {
     "name": "stderr",
     "output_type": "stream",
     "text": [
      "/Users/fysiki_mac/Library/jupyterlab-desktop/jlab_server/lib/python3.8/site-packages/sklearn/svm/_base.py:1244: ConvergenceWarning: Liblinear failed to converge, increase the number of iterations.\n",
      "  warnings.warn(\n",
      "/Users/fysiki_mac/Library/jupyterlab-desktop/jlab_server/lib/python3.8/site-packages/sklearn/svm/_base.py:1244: ConvergenceWarning: Liblinear failed to converge, increase the number of iterations.\n",
      "  warnings.warn(\n",
      "/Users/fysiki_mac/Library/jupyterlab-desktop/jlab_server/lib/python3.8/site-packages/sklearn/svm/_base.py:1244: ConvergenceWarning: Liblinear failed to converge, increase the number of iterations.\n",
      "  warnings.warn(\n",
      "/Users/fysiki_mac/Library/jupyterlab-desktop/jlab_server/lib/python3.8/site-packages/sklearn/svm/_base.py:1244: ConvergenceWarning: Liblinear failed to converge, increase the number of iterations.\n",
      "  warnings.warn(\n",
      "/Users/fysiki_mac/Library/jupyterlab-desktop/jlab_server/lib/python3.8/site-packages/sklearn/svm/_base.py:1244: ConvergenceWarning: Liblinear failed to converge, increase the number of iterations.\n",
      "  warnings.warn(\n",
      "/Users/fysiki_mac/Library/jupyterlab-desktop/jlab_server/lib/python3.8/site-packages/sklearn/svm/_base.py:1244: ConvergenceWarning: Liblinear failed to converge, increase the number of iterations.\n",
      "  warnings.warn(\n",
      "/Users/fysiki_mac/Library/jupyterlab-desktop/jlab_server/lib/python3.8/site-packages/sklearn/svm/_base.py:1244: ConvergenceWarning: Liblinear failed to converge, increase the number of iterations.\n",
      "  warnings.warn(\n",
      "/Users/fysiki_mac/Library/jupyterlab-desktop/jlab_server/lib/python3.8/site-packages/sklearn/svm/_base.py:1244: ConvergenceWarning: Liblinear failed to converge, increase the number of iterations.\n",
      "  warnings.warn(\n",
      "/Users/fysiki_mac/Library/jupyterlab-desktop/jlab_server/lib/python3.8/site-packages/sklearn/svm/_base.py:1244: ConvergenceWarning: Liblinear failed to converge, increase the number of iterations.\n",
      "  warnings.warn(\n",
      "/Users/fysiki_mac/Library/jupyterlab-desktop/jlab_server/lib/python3.8/site-packages/sklearn/svm/_base.py:1244: ConvergenceWarning: Liblinear failed to converge, increase the number of iterations.\n",
      "  warnings.warn(\n",
      "/Users/fysiki_mac/Library/jupyterlab-desktop/jlab_server/lib/python3.8/site-packages/sklearn/svm/_base.py:1244: ConvergenceWarning: Liblinear failed to converge, increase the number of iterations.\n",
      "  warnings.warn(\n",
      "/Users/fysiki_mac/Library/jupyterlab-desktop/jlab_server/lib/python3.8/site-packages/sklearn/svm/_base.py:1244: ConvergenceWarning: Liblinear failed to converge, increase the number of iterations.\n",
      "  warnings.warn(\n",
      "/Users/fysiki_mac/Library/jupyterlab-desktop/jlab_server/lib/python3.8/site-packages/sklearn/svm/_base.py:1244: ConvergenceWarning: Liblinear failed to converge, increase the number of iterations.\n",
      "  warnings.warn(\n",
      "/Users/fysiki_mac/Library/jupyterlab-desktop/jlab_server/lib/python3.8/site-packages/sklearn/svm/_base.py:1244: ConvergenceWarning: Liblinear failed to converge, increase the number of iterations.\n",
      "  warnings.warn(\n",
      "/Users/fysiki_mac/Library/jupyterlab-desktop/jlab_server/lib/python3.8/site-packages/sklearn/svm/_base.py:1244: ConvergenceWarning: Liblinear failed to converge, increase the number of iterations.\n",
      "  warnings.warn(\n",
      "/Users/fysiki_mac/Library/jupyterlab-desktop/jlab_server/lib/python3.8/site-packages/sklearn/svm/_base.py:1244: ConvergenceWarning: Liblinear failed to converge, increase the number of iterations.\n",
      "  warnings.warn(\n",
      "/Users/fysiki_mac/Library/jupyterlab-desktop/jlab_server/lib/python3.8/site-packages/sklearn/svm/_base.py:1244: ConvergenceWarning: Liblinear failed to converge, increase the number of iterations.\n",
      "  warnings.warn(\n",
      "/Users/fysiki_mac/Library/jupyterlab-desktop/jlab_server/lib/python3.8/site-packages/sklearn/svm/_base.py:1244: ConvergenceWarning: Liblinear failed to converge, increase the number of iterations.\n",
      "  warnings.warn(\n"
     ]
    },
    {
     "name": "stdout",
     "output_type": "stream",
     "text": [
      "[CV 2/5] END ...........................C=0.001;, score=0.852 total time= 1.1min\n",
      "[CV 3/5] END .............................C=0.1;, score=0.843 total time= 1.0min\n",
      "[CV 4/5] END ............................C=10.0;, score=0.847 total time=  58.7s\n",
      "[CV 2/5] END ...........................C=0.001;, score=0.858 total time=  11.6s\n",
      "[CV 1/5] END .............................C=1.0;, score=0.848 total time=  10.8s\n",
      "[CV 2/5] END ............................C=10.0;, score=0.847 total time=  11.3s\n",
      "[CV 3/5] END ...........................C=0.001;, score=0.852 total time= 1.2min\n",
      "[CV 4/5] END .............................C=0.1;, score=0.840 total time= 1.1min\n",
      "[CV 1/5] END ............................C=10.0;, score=0.831 total time= 1.1min\n",
      "[CV 3/5] END ...........................C=0.001;, score=0.852 total time= 1.1min\n",
      "[CV 2/5] END .............................C=0.1;, score=0.845 total time= 1.0min\n",
      "[CV 1/5] END ............................C=10.0;, score=0.831 total time=  59.5s\n",
      "[CV 5/5] END ...........................C=0.001;, score=0.847 total time=  10.7s\n",
      "[CV 4/5] END ............................C=0.01;, score=0.847 total time=  10.9s\n",
      "[CV 3/5] END .............................C=1.0;, score=0.848 total time=  11.7s\n",
      "[CV 3/5] END ............................C=0.01;, score=0.852 total time= 1.1min\n",
      "[CV 2/5] END .............................C=0.1;, score=0.845 total time= 1.1min\n",
      "[CV 2/5] END ............................C=10.0;, score=0.837 total time= 1.1min\n"
     ]
    },
    {
     "name": "stderr",
     "output_type": "stream",
     "text": [
      "/Users/fysiki_mac/Library/jupyterlab-desktop/jlab_server/lib/python3.8/site-packages/sklearn/svm/_base.py:1244: ConvergenceWarning: Liblinear failed to converge, increase the number of iterations.\n",
      "  warnings.warn(\n",
      "/Users/fysiki_mac/Library/jupyterlab-desktop/jlab_server/lib/python3.8/site-packages/sklearn/svm/_base.py:1244: ConvergenceWarning: Liblinear failed to converge, increase the number of iterations.\n",
      "  warnings.warn(\n",
      "/Users/fysiki_mac/Library/jupyterlab-desktop/jlab_server/lib/python3.8/site-packages/sklearn/svm/_base.py:1244: ConvergenceWarning: Liblinear failed to converge, increase the number of iterations.\n",
      "  warnings.warn(\n",
      "/Users/fysiki_mac/Library/jupyterlab-desktop/jlab_server/lib/python3.8/site-packages/sklearn/svm/_base.py:1244: ConvergenceWarning: Liblinear failed to converge, increase the number of iterations.\n",
      "  warnings.warn(\n",
      "/Users/fysiki_mac/Library/jupyterlab-desktop/jlab_server/lib/python3.8/site-packages/sklearn/svm/_base.py:1244: ConvergenceWarning: Liblinear failed to converge, increase the number of iterations.\n",
      "  warnings.warn(\n",
      "/Users/fysiki_mac/Library/jupyterlab-desktop/jlab_server/lib/python3.8/site-packages/sklearn/svm/_base.py:1244: ConvergenceWarning: Liblinear failed to converge, increase the number of iterations.\n",
      "  warnings.warn(\n",
      "/Users/fysiki_mac/Library/jupyterlab-desktop/jlab_server/lib/python3.8/site-packages/sklearn/svm/_base.py:1244: ConvergenceWarning: Liblinear failed to converge, increase the number of iterations.\n",
      "  warnings.warn(\n",
      "/Users/fysiki_mac/Library/jupyterlab-desktop/jlab_server/lib/python3.8/site-packages/sklearn/svm/_base.py:1244: ConvergenceWarning: Liblinear failed to converge, increase the number of iterations.\n",
      "  warnings.warn(\n",
      "/Users/fysiki_mac/Library/jupyterlab-desktop/jlab_server/lib/python3.8/site-packages/sklearn/svm/_base.py:1244: ConvergenceWarning: Liblinear failed to converge, increase the number of iterations.\n",
      "  warnings.warn(\n",
      "/Users/fysiki_mac/Library/jupyterlab-desktop/jlab_server/lib/python3.8/site-packages/sklearn/svm/_base.py:1244: ConvergenceWarning: Liblinear failed to converge, increase the number of iterations.\n",
      "  warnings.warn(\n",
      "/Users/fysiki_mac/Library/jupyterlab-desktop/jlab_server/lib/python3.8/site-packages/sklearn/svm/_base.py:1244: ConvergenceWarning: Liblinear failed to converge, increase the number of iterations.\n",
      "  warnings.warn(\n",
      "/Users/fysiki_mac/Library/jupyterlab-desktop/jlab_server/lib/python3.8/site-packages/sklearn/svm/_base.py:1244: ConvergenceWarning: Liblinear failed to converge, increase the number of iterations.\n",
      "  warnings.warn(\n",
      "/Users/fysiki_mac/Library/jupyterlab-desktop/jlab_server/lib/python3.8/site-packages/sklearn/svm/_base.py:1244: ConvergenceWarning: Liblinear failed to converge, increase the number of iterations.\n",
      "  warnings.warn(\n",
      "/Users/fysiki_mac/Library/jupyterlab-desktop/jlab_server/lib/python3.8/site-packages/sklearn/svm/_base.py:1244: ConvergenceWarning: Liblinear failed to converge, increase the number of iterations.\n",
      "  warnings.warn(\n",
      "/Users/fysiki_mac/Library/jupyterlab-desktop/jlab_server/lib/python3.8/site-packages/sklearn/svm/_base.py:1244: ConvergenceWarning: Liblinear failed to converge, increase the number of iterations.\n",
      "  warnings.warn(\n",
      "/Users/fysiki_mac/Library/jupyterlab-desktop/jlab_server/lib/python3.8/site-packages/sklearn/svm/_base.py:1244: ConvergenceWarning: Liblinear failed to converge, increase the number of iterations.\n",
      "  warnings.warn(\n",
      "/Users/fysiki_mac/Library/jupyterlab-desktop/jlab_server/lib/python3.8/site-packages/sklearn/svm/_base.py:1244: ConvergenceWarning: Liblinear failed to converge, increase the number of iterations.\n",
      "  warnings.warn(\n",
      "/Users/fysiki_mac/Library/jupyterlab-desktop/jlab_server/lib/python3.8/site-packages/sklearn/svm/_base.py:1244: ConvergenceWarning: Liblinear failed to converge, increase the number of iterations.\n",
      "  warnings.warn(\n"
     ]
    },
    {
     "name": "stdout",
     "output_type": "stream",
     "text": [
      "[CV 4/5] END ...........................C=0.001;, score=0.859 total time= 1.0min\n",
      "[CV 5/5] END ............................C=0.01;, score=0.812 total time=  56.4s\n",
      "[CV 3/5] END .............................C=1.0;, score=0.841 total time= 1.0min\n",
      "[CV 1/5] END ...........................C=0.001;, score=0.842 total time=  11.4s\n",
      "[CV 3/5] END .............................C=0.1;, score=0.850 total time=  11.4s\n",
      "[CV 4/5] END ............................C=10.0;, score=0.848 total time=  11.1s\n",
      "[CV 5/5] END ...........................C=0.001;, score=0.830 total time= 1.0min\n",
      "[CV 4/5] END ............................C=0.01;, score=0.842 total time= 1.1min\n",
      "[CV 2/5] END .............................C=1.0;, score=0.838 total time= 1.2min\n",
      "[CV 5/5] END ............................C=10.0;, score=0.824 total time=  23.0s\n"
     ]
    },
    {
     "name": "stderr",
     "output_type": "stream",
     "text": [
      "/Users/fysiki_mac/Library/jupyterlab-desktop/jlab_server/lib/python3.8/site-packages/sklearn/svm/_base.py:1244: ConvergenceWarning: Liblinear failed to converge, increase the number of iterations.\n",
      "  warnings.warn(\n",
      "/Users/fysiki_mac/Library/jupyterlab-desktop/jlab_server/lib/python3.8/site-packages/sklearn/svm/_base.py:1244: ConvergenceWarning: Liblinear failed to converge, increase the number of iterations.\n",
      "  warnings.warn(\n",
      "/Users/fysiki_mac/Library/jupyterlab-desktop/jlab_server/lib/python3.8/site-packages/sklearn/svm/_base.py:1244: ConvergenceWarning: Liblinear failed to converge, increase the number of iterations.\n",
      "  warnings.warn(\n",
      "/Users/fysiki_mac/Library/jupyterlab-desktop/jlab_server/lib/python3.8/site-packages/sklearn/svm/_base.py:1244: ConvergenceWarning: Liblinear failed to converge, increase the number of iterations.\n",
      "  warnings.warn(\n",
      "/Users/fysiki_mac/Library/jupyterlab-desktop/jlab_server/lib/python3.8/site-packages/sklearn/svm/_base.py:1244: ConvergenceWarning: Liblinear failed to converge, increase the number of iterations.\n",
      "  warnings.warn(\n",
      "/Users/fysiki_mac/Library/jupyterlab-desktop/jlab_server/lib/python3.8/site-packages/sklearn/svm/_base.py:1244: ConvergenceWarning: Liblinear failed to converge, increase the number of iterations.\n",
      "  warnings.warn(\n",
      "/Users/fysiki_mac/Library/jupyterlab-desktop/jlab_server/lib/python3.8/site-packages/sklearn/svm/_base.py:1244: ConvergenceWarning: Liblinear failed to converge, increase the number of iterations.\n",
      "  warnings.warn(\n",
      "/Users/fysiki_mac/Library/jupyterlab-desktop/jlab_server/lib/python3.8/site-packages/sklearn/svm/_base.py:1244: ConvergenceWarning: Liblinear failed to converge, increase the number of iterations.\n",
      "  warnings.warn(\n",
      "/Users/fysiki_mac/Library/jupyterlab-desktop/jlab_server/lib/python3.8/site-packages/sklearn/svm/_base.py:1244: ConvergenceWarning: Liblinear failed to converge, increase the number of iterations.\n",
      "  warnings.warn(\n",
      "/Users/fysiki_mac/Library/jupyterlab-desktop/jlab_server/lib/python3.8/site-packages/sklearn/svm/_base.py:1244: ConvergenceWarning: Liblinear failed to converge, increase the number of iterations.\n",
      "  warnings.warn(\n"
     ]
    }
   ],
   "source": [
    "# best_C = 1.0 # Or use the C value found by your grid_search.best_params_['C']\n",
    "# MAX_ITER_FINAL = 20000 \n",
    "\n",
    "# final_svm_model = LinearSVC(C=best_C, \n",
    "#                             max_iter=MAX_ITER_FINAL, \n",
    "#                             dual=True, \n",
    "#                             random_state=42)\n",
    "\n",
    "# print(f\"Retraining Linear-SVM with C={best_C} and max_iter={MAX_ITER_FINAL}...\")\n",
    "# start_time = time.time()\n",
    "# final_svm_model.fit(X_train, y_train) # Use your actual x_train, y_train from the notebook\n",
    "# end_time = time.time()\n",
    "# training_time = end_time - start_time\n",
    "# print(f\"Training Time: {training_time:.2f} seconds\")\n",
    "\n",
    "\n",
    "# # --------------------------------------------------------------------------\n",
    "# ## 2. Generate Predictions & Calculate Overall Accuracy\n",
    "# # --------------------------------------------------------------------------\n",
    "\n",
    "# print(\"\\nGenerating predictions on the test set...\")\n",
    "# start_time = time.time()\n",
    "# y_pred_svm = final_svm_model.predict(X_test) # Use your actual x_test\n",
    "# prediction_time = time.time() - start_time\n",
    "# print(f\"Prediction Time: {prediction_time:.2f} seconds\")\n",
    "\n",
    "# # A. Overall Accuracy\n",
    "# overall_svm_accuracy = accuracy_score(y_test, y_pred_svm)\n",
    "# print(\"\\n--- PERFORMANCE METRICS ---\")\n",
    "# print(f\"1. Overall Test Accuracy (Linear-SVM): {overall_svm_accuracy:.4f}\")\n",
    "\n",
    "\n",
    "# # --------------------------------------------------------------------------\n",
    "# ## 3. Detailed Metrics\n",
    "# # --------------------------------------------------------------------------\n",
    "\n",
    "# # B. Confusion Matrix \n",
    "# conf_matrix = confusion_matrix(y_test, y_pred_svm)\n",
    "\n",
    "# print(\"\\n2. Confusion Matrix:\")\n",
    "# plt.figure(figsize=(10, 8))\n",
    "# sns.heatmap(conf_matrix, \n",
    "#             annot=True, \n",
    "#             fmt=\"d\", \n",
    "#             cmap=\"Blues\",\n",
    "#             cbar=False,\n",
    "#             xticklabels=range(10), \n",
    "#             yticklabels=range(10))\n",
    "# plt.title(f'Linear-SVM Confusion Matrix (Accuracy: {overall_svm_accuracy:.4f})')\n",
    "# plt.xlabel('Predicted Label')\n",
    "# plt.ylabel('True Label')\n",
    "# plt.show() # \n",
    "\n",
    "# # C. Classification Report\n",
    "# class_report = classification_report(y_test, y_pred_svm, digits=4)\n",
    "\n",
    "# print(\"\\n3. Classification Report (Precision, Recall, F1-Score per Digit):\")\n",
    "# print(class_report)\n",
    "\n",
    "\n",
    "# # --------------------------------------------------------------------------\n",
    "# ## 4. Performance Comparison (Phase 4)\n",
    "# # --------------------------------------------------------------------------\n",
    "\n",
    "# # Actual Logistic Regression Accuracy from your notebook output (28x28 test set)\n",
    "# logistic_regression_accuracy = 0.9205 \n",
    "\n",
    "# print(\"\\n\\n\" + \"=\"*50)\n",
    "# print(\"PHASE 4: MODEL PERFORMANCE COMPARISON\")\n",
    "# print(\"=\"*50)\n",
    "\n",
    "# # Create a dictionary for easy comparison\n",
    "# comparison_data = {\n",
    "#     'Model': ['Logistic Regression (Baseline)', 'Linear-SVM (Current)'],\n",
    "#     'Test Accuracy': [logistic_regression_accuracy, overall_svm_accuracy]\n",
    "# }\n",
    "\n",
    "# # Print the comparison table\n",
    "# print(\"\\n[1] TEST ACCURACY COMPARISON\\n\")\n",
    "# print(f\"{'Model':<35} {'Test Accuracy':<15}\")\n",
    "# print(f\"{'-'*35:<35} {'-'*15:<15}\")\n",
    "# print(f\"{comparison_data['Model'][0]:<35} {comparison_data['Test Accuracy'][0]:<.4f}\")\n",
    "# print(f\"{comparison_data['Model'][1]:<35} {comparison_data['Test Accuracy'][1]:<.4f}\")\n",
    "\n",
    "# # Draw Conclusion\n",
    "# if overall_svm_accuracy > logistic_regression_accuracy:\n",
    "#     print(f\"\\n[2] CONCLUSION: Linear-SVM performed BETTER.\")\n",
    "#     print(\"The maximum margin principle of SVM likely found a slightly more robust decision boundary for this dataset.\")\n",
    "# else:\n",
    "#     print(f\"\\n[2] CONCLUSION: Logistic Regression performed BETTER.\")\n",
    "#     print(\"This suggests that the Logistic Regression's probabilistic approach and log-loss objective was more effective than the Linear-SVM's hinge loss. Alternatively, the Linear-SVM model may still require further tuning (e.g., higher max_iter or a different solver) to fully converge to its potential optimum.\")"
   ]
  },
  {
   "cell_type": "markdown",
   "id": "a2409653-9229-41b4-864b-dcc3b64c1ddb",
   "metadata": {},
   "source": [
    "<h1>Lets go with SVC(kernel='linear')</h1>"
   ]
  },
  {
   "cell_type": "code",
   "execution_count": null,
   "id": "6a8b7dad-469a-4f3e-85d2-72fd085f82e6",
   "metadata": {},
   "outputs": [],
   "source": [
    "from sklearn.svm import SVC\n"
   ]
  }
 ],
 "metadata": {
  "kernelspec": {
   "display_name": "Python 3 (ipykernel)",
   "language": "python",
   "name": "python3"
  },
  "language_info": {
   "codemirror_mode": {
    "name": "ipython",
    "version": 3
   },
   "file_extension": ".py",
   "mimetype": "text/x-python",
   "name": "python",
   "nbconvert_exporter": "python",
   "pygments_lexer": "ipython3",
   "version": "3.8.15"
  }
 },
 "nbformat": 4,
 "nbformat_minor": 5
}
